{
 "cells": [
  {
   "cell_type": "code",
   "execution_count": 1,
   "id": "9fc611a4",
   "metadata": {},
   "outputs": [
    {
     "name": "stdout",
     "output_type": "stream",
     "text": [
      "[name: \"/device:CPU:0\"\n",
      "device_type: \"CPU\"\n",
      "memory_limit: 268435456\n",
      "locality {\n",
      "}\n",
      "incarnation: 1506945533408218240\n",
      ", name: \"/device:GPU:0\"\n",
      "device_type: \"GPU\"\n",
      "memory_limit: 2907098318\n",
      "locality {\n",
      "  bus_id: 1\n",
      "  links {\n",
      "  }\n",
      "}\n",
      "incarnation: 16039504808941459091\n",
      "physical_device_desc: \"device: 0, name: NVIDIA GeForce GTX 1050 Ti, pci bus id: 0000:01:00.0, compute capability: 6.1\"\n",
      "]\n"
     ]
    }
   ],
   "source": [
    "from tensorflow.python.client import device_lib\n",
    "print(device_lib.list_local_devices())\n"
   ]
  },
  {
   "cell_type": "code",
   "execution_count": 2,
   "id": "065469be",
   "metadata": {},
   "outputs": [],
   "source": [
    "import numpy as np\n",
    "import matplotlib.pyplot as plt\n",
    "import keras\n",
    "from tensorflow.keras import layers\n",
    "from keras.layers import *\n",
    "from keras.models import * \n",
    "from keras.preprocessing import image\n",
    "import cv2,os\n",
    "\n",
    "train_path = \"E:\\Chest X ray New Dataset\\train\"\n",
    "test_path = \"E:\\Chest X ray New Dataset\\val\""
   ]
  },
  {
   "cell_type": "markdown",
   "id": "13f25c6e",
   "metadata": {},
   "source": [
    "## Importing Dataset from local machine "
   ]
  },
  {
   "cell_type": "code",
   "execution_count": 3,
   "id": "a58ac8ea",
   "metadata": {},
   "outputs": [
    {
     "name": "stdout",
     "output_type": "stream",
     "text": [
      "{'COVID': 0, 'NORMAL': 1, 'PNEUMONIA BACTERIA': 2, 'PNEUMONIA VIRUS': 3}\n",
      "['COVID', 'NORMAL', 'PNEUMONIA BACTERIA', 'PNEUMONIA VIRUS']\n",
      "[0, 1, 2, 3]\n"
     ]
    }
   ],
   "source": [
    "data_path=r\"E:\\Chest X ray New Dataset\\train\"\n",
    "categories=os.listdir(data_path)\n",
    "labels=[i for i in range(len(categories))]\n",
    "\n",
    "label_dict=dict(zip(categories,labels)) #empty dictionary\n",
    "\n",
    "print(label_dict)\n",
    "print(categories)\n",
    "print(labels)"
   ]
  },
  {
   "cell_type": "markdown",
   "id": "1c87ea04",
   "metadata": {},
   "source": [
    "## Data Preprocessing of training dataset using openCv "
   ]
  },
  {
   "cell_type": "code",
   "execution_count": 4,
   "id": "d687de81",
   "metadata": {},
   "outputs": [],
   "source": [
    "img_size=224\n",
    "data=[]\n",
    "target=[]\n",
    "\n",
    "\n",
    "for category in categories:\n",
    "    folder_path=os.path.join(data_path,category)\n",
    "    img_names=os.listdir(folder_path)\n",
    "        \n",
    "    for img_name in img_names:\n",
    "        img_path=os.path.join(folder_path,img_name)\n",
    "        img=cv2.imread(img_path)\n",
    "\n",
    "        try:\n",
    "          lab = cv2.cvtColor(img, cv2.COLOR_BGR2LAB)\n",
    "          lab_planes = cv2.split(lab)\n",
    "          clahe = cv2.createCLAHE(clipLimit=5,tileGridSize=(8,8))\n",
    "          lab_planes[0] = clahe.apply(lab_planes[0])\n",
    "          lab = cv2.merge(lab_planes)\n",
    "          bgr = cv2.cvtColor(lab, cv2.COLOR_LAB2BGR)\n",
    "          resized=cv2.resize(bgr,(img_size,img_size))\n",
    "          data.append(resized)\n",
    "          target.append(label_dict[category])\n",
    "          #appending the image and the label(categorized) into the list (dataset)\n",
    "          \n",
    "          \n",
    "\n",
    "        except Exception as e:\n",
    "            print('Exception:',e)\n",
    "            #if any exception rasied, the exception will be printed here. And pass to the next image"
   ]
  },
  {
   "cell_type": "markdown",
   "id": "9e64826d",
   "metadata": {},
   "source": [
    "## Data Reshaping of train Dataset "
   ]
  },
  {
   "cell_type": "code",
   "execution_count": 5,
   "id": "9cc66656",
   "metadata": {},
   "outputs": [],
   "source": [
    "import numpy as np\n",
    "\n",
    "\n",
    "data=np.array(data)\n",
    "data=data/255\n",
    "data=np.reshape(data,(data.shape[0],img_size,img_size,3 ))\n",
    "target=np.array(target)\n",
    "\n",
    "from keras.utils import np_utils\n",
    "\n",
    "new_target=np_utils.to_categorical(target)\n",
    "\n",
    "#from sklearn.utils import shuffle\n",
    "#data,Label = shuffle(data,new_target, random_state=2)\n",
    "#train_data = [data,Label]"
   ]
  },
  {
   "cell_type": "markdown",
   "id": "9474994c",
   "metadata": {},
   "source": [
    "# Improve test Accuracy using Data augmentation\n"
   ]
  },
  {
   "cell_type": "code",
   "execution_count": 6,
   "id": "76477a4b",
   "metadata": {},
   "outputs": [],
   "source": [
    "\n",
    "data_augmentation = keras.Sequential(\n",
    "  [\n",
    "    layers.experimental.preprocessing.RandomFlip(\"horizontal\",input_shape=(img_size,img_size,3)),\n",
    "    layers.experimental.preprocessing.RandomRotation(0.1),\n",
    "    layers.experimental.preprocessing.RandomZoom(0.1),\n",
    "  ]\n",
    ")"
   ]
  },
  {
   "cell_type": "markdown",
   "id": "9eed46ee",
   "metadata": {},
   "source": [
    "## Let's Create a CNN Model "
   ]
  },
  {
   "cell_type": "code",
   "execution_count": 7,
   "id": "7de37060",
   "metadata": {},
   "outputs": [
    {
     "name": "stderr",
     "output_type": "stream",
     "text": [
      "E:\\Anaconda\\envs\\tf-gpu\\lib\\site-packages\\tensorflow\\python\\keras\\optimizer_v2\\optimizer_v2.py:374: UserWarning: The `lr` argument is deprecated, use `learning_rate` instead.\n",
      "  warnings.warn(\n"
     ]
    }
   ],
   "source": [
    "# CNN Based Model in Keras\n",
    "\n",
    "#model=Sequential()\n",
    "#model.add(Conv2D(filters=16,kernel_size=3,padding=\"same\",activation=\"relu\",input_shape=(224,224,3)))\n",
    "#model.add(Conv2D(filters=32,kernel_size=3,padding=\"same\",activation =\"relu\"))\n",
    "#model.add(MaxPooling2D(pool_size=2))\n",
    "\n",
    "#model.add(Conv2D(filters=64,kernel_size=3,padding=\"same\",activation=\"relu\"))\n",
    "#model.add(MaxPooling2D(pool_size=2))\n",
    "\n",
    "#model.add(Conv2D(filters=128,kernel_size=3,padding=\"same\",activation=\"relu\"))\n",
    "#model.add(MaxPooling2D(pool_size=2))\n",
    "\n",
    "#model.add(Flatten())\n",
    "#model.add(Dense(512,activation=\"relu\"))\n",
    "#model.add(Dropout(0.5))\n",
    "#model.add(Dense(4,activation=\"softmax\"))\n",
    "\n",
    "\n",
    "#model = Sequential()\n",
    "\n",
    "#model.add(Conv2D(16, (3, 3), activation='relu', kernel_initializer='he_uniform', padding='same'))\n",
    "#model.add(Conv2D(32, (3, 3), activation='relu', kernel_initializer='he_uniform', padding='same'))\n",
    "#model.add(MaxPooling2D((2, 2)))\n",
    "#model.add(Dropout(0.2))\n",
    "\n",
    "#model.add(Conv2D(64, (3, 3), activation='relu', kernel_initializer='he_uniform', padding='same'))\n",
    "#model.add(MaxPooling2D((2, 2)))\n",
    "#model.add(Dropout(0.2))\n",
    "\n",
    "#model.add(Conv2D(128, (3, 3), activation='relu', kernel_initializer='he_uniform', padding='same'))\n",
    "#model.add(MaxPooling2D((2, 2)))\n",
    "#model.add(Dropout(0.2))\n",
    "\n",
    "#model.add(Flatten())\n",
    "#model.add(Dense(128, activation='relu', kernel_initializer='he_uniform'))\n",
    "#model.add(Dropout(0.4))\n",
    "#model.add(Dense(4, activation='softmax'))\n",
    "\n",
    "#opt = keras.optimizers.Adam(lr=0.001)\n",
    "#model.compile(optimizer=opt, loss='categorical_crossentropy', metrics=['accuracy'])\n",
    "\n",
    "model = Sequential([\n",
    "  data_augmentation,\n",
    "  layers.Conv2D(16, 3, padding='same',kernel_initializer='he_uniform', activation='relu'),\n",
    "  layers.Conv2D(32, 3, padding='same',kernel_initializer='he_uniform', activation='relu'),\n",
    "  layers.MaxPooling2D((2,2)),\n",
    "  layers.Dropout(0.2),\n",
    "  \n",
    "  layers.Conv2D(64, 3, padding='same',kernel_initializer='he_uniform', activation='relu'),\n",
    "  layers.MaxPooling2D((2,2)),\n",
    "  layers.Dropout(0.2),\n",
    "  layers.Conv2D(128, 3, padding='same',kernel_initializer='he_uniform', activation='relu'),\n",
    "  layers.MaxPooling2D((2,2)),\n",
    "  \n",
    "  layers.Flatten(),\n",
    "  layers.Dense(256,kernel_initializer='he_uniform', activation='relu'),\n",
    "  layers.Dropout(0.3),\n",
    "  layers.Dense(4,activation='softmax')\n",
    "])\n",
    "\n",
    "opt = keras.optimizers.Adam(lr=0.001)\n",
    "model.compile(optimizer=opt,\n",
    "              loss='categorical_crossentropy',\n",
    "              metrics=['accuracy'])\n",
    "\n",
    "\n",
    "#model = Sequential()\n",
    "\n",
    "#model.add(Conv2D(16, (3, 3), activation='relu', kernel_initializer='he_uniform', padding='same', input_shape=(224, 224, 3)))\n",
    "#model.add(BatchNormalization())\n",
    "#model.add(Conv2D(32, (3, 3), activation='relu', kernel_initializer='he_uniform', padding='same'))\n",
    "#model.add(BatchNormalization())\n",
    "#model.add(MaxPooling2D((2, 2)))\n",
    "#model.add(Dropout(0.3))\n",
    "\n",
    "#model.add(Conv2D(64, (3, 3), activation='relu', kernel_initializer='he_uniform', padding='same'))\n",
    "#model.add(BatchNormalization())\n",
    "#model.add(MaxPooling2D((2, 2)))\n",
    "#model.add(Dropout(0.3))\n",
    "\n",
    "#model.add(Conv2D(128, (3, 3), activation='relu', kernel_initializer='he_uniform', padding='same'))\n",
    "#model.add(BatchNormalization())\n",
    "#model.add(MaxPooling2D((2, 2)))\n",
    "#model.add(Dropout(0.3))\n",
    "\n",
    "#model.add(Conv2D(256, (3, 3), activation='relu', kernel_initializer='he_uniform', padding='same'))\n",
    "#model.add(BatchNormalization())\n",
    "#model.add(MaxPooling2D((2, 2)))\n",
    "#model.add(Dropout(0.3))\n",
    "\n",
    "#model.add(Flatten())\n",
    "#model.add(Dense(256, activation='relu', kernel_initializer='he_uniform'))\n",
    "#model.add(BatchNormalization())\n",
    "#model.add(Dropout(0.5))\n",
    "#model.add(Dense(4, activation='softmax'))\n",
    "# compile model\n",
    "#opt = keras.optimizers.Adam(lr=0.001)\n",
    "#model.compile(optimizer=opt, loss='categorical_crossentropy', metrics=['accuracy'])\n",
    "\n",
    "\n",
    "\n",
    "\n",
    "\n"
   ]
  },
  {
   "cell_type": "code",
   "execution_count": null,
   "id": "4e148a94",
   "metadata": {},
   "outputs": [],
   "source": [
    "model.summary()"
   ]
  },
  {
   "cell_type": "code",
   "execution_count": null,
   "id": "84ee498a",
   "metadata": {},
   "outputs": [],
   "source": [
    "history=model.fit(data,new_target,epochs=35)"
   ]
  },
  {
   "cell_type": "code",
   "execution_count": null,
   "id": "7ee98c10",
   "metadata": {},
   "outputs": [],
   "source": [
    "checkpoint_path =\"D:\\Download(Chrome)\\Covid-19 prediction CLAHE and CNN Checkpoint\"\n",
    "checkpoint_dir = os.path.dirname(checkpoint_path)"
   ]
  },
  {
   "cell_type": "code",
   "execution_count": null,
   "id": "62b5816d",
   "metadata": {},
   "outputs": [],
   "source": [
    "import tensorflow as tf\n",
    "cp_callback = tf.keras.callbacks.ModelCheckpoint(\n",
    "    filepath=checkpoint_path, \n",
    "    verbose=1, \n",
    "    save_weights_only=True,\n",
    "    period=5)\n",
    "model.save_weights(checkpoint_path.format(epoch=10))"
   ]
  },
  {
   "cell_type": "markdown",
   "id": "61be1156",
   "metadata": {},
   "source": [
    "## Data Preprocessing of Test Dataset using OpenCV"
   ]
  },
  {
   "cell_type": "code",
   "execution_count": 8,
   "id": "8099a2e0",
   "metadata": {},
   "outputs": [
    {
     "name": "stdout",
     "output_type": "stream",
     "text": [
      "{'COVID': 0, 'NORMAL': 1, 'PNEUMONIA BACTERIA': 2, 'PNEUMONIA VIRUS': 3}\n",
      "['COVID', 'NORMAL', 'PNEUMONIA BACTERIA', 'PNEUMONIA VIRUS']\n",
      "[0, 1, 2, 3]\n"
     ]
    }
   ],
   "source": [
    "data_path1=r\"E:\\Chest X ray New Dataset\\val\"\n",
    "categories=os.listdir(data_path1)\n",
    "labels=[i for i in range(len(categories))]\n",
    "\n",
    "label_dict=dict(zip(categories,labels)) #empty dictionary\n",
    "\n",
    "print(label_dict)\n",
    "print(categories)\n",
    "print(labels)"
   ]
  },
  {
   "cell_type": "code",
   "execution_count": 10,
   "id": "4da83569",
   "metadata": {},
   "outputs": [],
   "source": [
    "img_size=224\n",
    "data1=[]\n",
    "target1=[]\n",
    "\n",
    "\n",
    "for category in categories:\n",
    "    folder_path=os.path.join(data_path1,category)\n",
    "    img_names=os.listdir(folder_path)\n",
    "        \n",
    "    for img_name in img_names:\n",
    "        img_path=os.path.join(folder_path,img_name)\n",
    "        img=cv2.imread(img_path)\n",
    "\n",
    "        try:\n",
    "          lab = cv2.cvtColor(img, cv2.COLOR_BGR2LAB)\n",
    "          lab_planes = cv2.split(lab)\n",
    "          clahe = cv2.createCLAHE(clipLimit=5,tileGridSize=(8,8))\n",
    "          lab_planes[0] = clahe.apply(lab_planes[0])\n",
    "          lab = cv2.merge(lab_planes)\n",
    "          bgr = cv2.cvtColor(lab, cv2.COLOR_LAB2BGR)\n",
    "          resized=cv2.resize(bgr,(img_size,img_size))\n",
    "          data1.append(resized)\n",
    "          target1.append(label_dict[category])\n",
    "          #appending the image and the label(categorized) into the list (dataset)\n",
    "\n",
    "        except Exception as e:\n",
    "            print('Exception:',e)\n",
    "            #if any exception rasied, the exception will be printed here. And pass to the next image"
   ]
  },
  {
   "cell_type": "code",
   "execution_count": 11,
   "id": "f0b83390",
   "metadata": {},
   "outputs": [],
   "source": [
    "\n",
    "import numpy as np\n",
    "data1=np.array(data1)/255.0\n",
    "data1=np.reshape(data1,(data1.shape[0],img_size,img_size,3))\n",
    "target1=np.array(target1)\n",
    "\n",
    "from keras.utils import np_utils\n",
    "\n",
    "new_target1=np_utils.to_categorical(target1)\n",
    "#from sklearn.utils import shuffle\n",
    "#data,Label = shuffle(data1,new_target1, random_state=2)\n",
    "#test_data = [data,Label]"
   ]
  },
  {
   "cell_type": "code",
   "execution_count": null,
   "id": "f4503008",
   "metadata": {},
   "outputs": [],
   "source": [
    "#Model Evaluate using Above Trained Model\n",
    "model.evaluate(data1,new_target1)"
   ]
  },
  {
   "cell_type": "code",
   "execution_count": null,
   "id": "f9e196d7",
   "metadata": {},
   "outputs": [],
   "source": [
    "import tensorflow as tf\n",
    "latest = tf.train.latest_checkpoint(checkpoint_dir)\n",
    "model.load_weights(latest)\n",
    "\n",
    "model.evaluate(data1,new_target1)"
   ]
  },
  {
   "cell_type": "code",
   "execution_count": null,
   "id": "2e5481f4",
   "metadata": {},
   "outputs": [],
   "source": [
    "#This is Callback Stopped Training of data when validation loss will get increased\n",
    "from keras import callbacks\n",
    "earlystopping = callbacks.EarlyStopping(monitor =\"val_loss\", \n",
    "                                        mode =\"min\", patience = 5, \n",
    "                                        restore_best_weights = True)"
   ]
  },
  {
   "cell_type": "code",
   "execution_count": 12,
   "id": "15847365",
   "metadata": {},
   "outputs": [
    {
     "name": "stdout",
     "output_type": "stream",
     "text": [
      "Epoch 1/50\n",
      "241/241 [==============================] - 122s 330ms/step - loss: 7.3554 - accuracy: 0.5334 - val_loss: 0.5527 - val_accuracy: 0.7894\n",
      "Epoch 2/50\n",
      "241/241 [==============================] - 48s 197ms/step - loss: 0.5740 - accuracy: 0.7849 - val_loss: 0.4911 - val_accuracy: 0.8135\n",
      "Epoch 3/50\n",
      "241/241 [==============================] - 46s 192ms/step - loss: 0.5326 - accuracy: 0.8051 - val_loss: 0.5266 - val_accuracy: 0.7985\n",
      "Epoch 4/50\n",
      "241/241 [==============================] - 43s 178ms/step - loss: 0.4948 - accuracy: 0.8146 - val_loss: 0.4348 - val_accuracy: 0.8371\n",
      "Epoch 5/50\n",
      "241/241 [==============================] - 43s 179ms/step - loss: 0.4622 - accuracy: 0.8314 - val_loss: 0.4451 - val_accuracy: 0.8348\n",
      "Epoch 6/50\n",
      "241/241 [==============================] - 43s 178ms/step - loss: 0.4590 - accuracy: 0.8325 - val_loss: 0.4511 - val_accuracy: 0.8276\n",
      "Epoch 7/50\n",
      "241/241 [==============================] - 43s 179ms/step - loss: 0.4603 - accuracy: 0.8289 - val_loss: 0.4286 - val_accuracy: 0.8394\n",
      "Epoch 8/50\n",
      "241/241 [==============================] - 43s 179ms/step - loss: 0.4365 - accuracy: 0.8359 - val_loss: 0.4167 - val_accuracy: 0.8421\n",
      "Epoch 9/50\n",
      "241/241 [==============================] - 43s 178ms/step - loss: 0.4368 - accuracy: 0.8347 - val_loss: 0.4958 - val_accuracy: 0.8139\n",
      "Epoch 10/50\n",
      "241/241 [==============================] - 43s 178ms/step - loss: 0.4089 - accuracy: 0.8417 - val_loss: 0.3964 - val_accuracy: 0.8485\n",
      "Epoch 11/50\n",
      "241/241 [==============================] - 43s 178ms/step - loss: 0.4040 - accuracy: 0.8546 - val_loss: 0.4339 - val_accuracy: 0.8389\n",
      "Epoch 12/50\n",
      "241/241 [==============================] - 43s 179ms/step - loss: 0.4141 - accuracy: 0.8485 - val_loss: 0.4307 - val_accuracy: 0.8371\n",
      "Epoch 13/50\n",
      "241/241 [==============================] - 43s 178ms/step - loss: 0.3899 - accuracy: 0.8492 - val_loss: 0.3886 - val_accuracy: 0.8490\n",
      "Epoch 14/50\n",
      "241/241 [==============================] - 43s 178ms/step - loss: 0.3896 - accuracy: 0.8472 - val_loss: 0.3779 - val_accuracy: 0.8540\n",
      "Epoch 15/50\n",
      "241/241 [==============================] - 43s 178ms/step - loss: 0.4034 - accuracy: 0.8448 - val_loss: 0.4087 - val_accuracy: 0.8412\n",
      "Epoch 16/50\n",
      "241/241 [==============================] - 43s 178ms/step - loss: 0.3834 - accuracy: 0.8519 - val_loss: 0.4327 - val_accuracy: 0.8367\n",
      "Epoch 17/50\n",
      "241/241 [==============================] - 43s 177ms/step - loss: 0.3831 - accuracy: 0.8483 - val_loss: 0.4516 - val_accuracy: 0.8248\n",
      "Epoch 18/50\n",
      "241/241 [==============================] - 43s 177ms/step - loss: 0.3578 - accuracy: 0.8600 - val_loss: 0.4455 - val_accuracy: 0.8312\n",
      "Epoch 19/50\n",
      "241/241 [==============================] - 43s 178ms/step - loss: 0.3787 - accuracy: 0.8521 - val_loss: 0.5653 - val_accuracy: 0.7980\n",
      "Epoch 20/50\n",
      "241/241 [==============================] - 43s 178ms/step - loss: 0.3731 - accuracy: 0.8573 - val_loss: 0.4040 - val_accuracy: 0.8439\n",
      "Epoch 21/50\n",
      "241/241 [==============================] - 43s 178ms/step - loss: 0.3579 - accuracy: 0.8631 - val_loss: 0.3850 - val_accuracy: 0.8476\n",
      "Epoch 22/50\n",
      "241/241 [==============================] - 43s 179ms/step - loss: 0.3599 - accuracy: 0.8620 - val_loss: 0.4082 - val_accuracy: 0.8453\n",
      "Epoch 23/50\n",
      "241/241 [==============================] - 43s 178ms/step - loss: 0.3430 - accuracy: 0.8662 - val_loss: 0.4126 - val_accuracy: 0.8376\n",
      "Epoch 24/50\n",
      "241/241 [==============================] - 43s 178ms/step - loss: 0.3523 - accuracy: 0.8639 - val_loss: 0.4100 - val_accuracy: 0.8371\n",
      "Epoch 25/50\n",
      "241/241 [==============================] - 43s 178ms/step - loss: 0.3712 - accuracy: 0.8635 - val_loss: 0.3873 - val_accuracy: 0.8526\n",
      "Epoch 26/50\n",
      "241/241 [==============================] - 43s 178ms/step - loss: 0.3421 - accuracy: 0.8707 - val_loss: 0.3677 - val_accuracy: 0.8603\n",
      "Epoch 27/50\n",
      "241/241 [==============================] - 43s 178ms/step - loss: 0.3404 - accuracy: 0.8663 - val_loss: 0.3814 - val_accuracy: 0.8544\n",
      "Epoch 28/50\n",
      "241/241 [==============================] - 43s 178ms/step - loss: 0.3459 - accuracy: 0.8693 - val_loss: 0.3744 - val_accuracy: 0.8544\n",
      "Epoch 29/50\n",
      "241/241 [==============================] - 43s 178ms/step - loss: 0.3367 - accuracy: 0.8683 - val_loss: 0.3902 - val_accuracy: 0.8544\n",
      "Epoch 30/50\n",
      "241/241 [==============================] - 43s 178ms/step - loss: 0.3536 - accuracy: 0.8615 - val_loss: 0.3741 - val_accuracy: 0.8526\n",
      "Epoch 31/50\n",
      "241/241 [==============================] - 43s 178ms/step - loss: 0.3278 - accuracy: 0.8727 - val_loss: 0.4290 - val_accuracy: 0.8385\n",
      "Epoch 32/50\n",
      "241/241 [==============================] - 43s 177ms/step - loss: 0.3427 - accuracy: 0.8687 - val_loss: 0.3692 - val_accuracy: 0.8467\n",
      "Epoch 33/50\n",
      "241/241 [==============================] - 43s 178ms/step - loss: 0.3210 - accuracy: 0.8705 - val_loss: 0.3746 - val_accuracy: 0.8553\n",
      "Epoch 34/50\n",
      "241/241 [==============================] - 43s 178ms/step - loss: 0.3396 - accuracy: 0.8656 - val_loss: 0.3955 - val_accuracy: 0.8426\n",
      "Epoch 35/50\n",
      "241/241 [==============================] - 43s 177ms/step - loss: 0.3318 - accuracy: 0.8720 - val_loss: 0.3725 - val_accuracy: 0.8567\n",
      "Epoch 36/50\n",
      "241/241 [==============================] - 43s 177ms/step - loss: 0.3403 - accuracy: 0.8647 - val_loss: 0.3795 - val_accuracy: 0.8480\n",
      "Epoch 37/50\n",
      "241/241 [==============================] - 43s 178ms/step - loss: 0.3245 - accuracy: 0.8713 - val_loss: 0.3595 - val_accuracy: 0.8599\n",
      "Epoch 38/50\n",
      "241/241 [==============================] - 43s 178ms/step - loss: 0.3302 - accuracy: 0.8732 - val_loss: 0.3995 - val_accuracy: 0.8517\n",
      "Epoch 39/50\n",
      "241/241 [==============================] - 43s 177ms/step - loss: 0.3289 - accuracy: 0.8743 - val_loss: 0.3788 - val_accuracy: 0.8530\n",
      "Epoch 40/50\n",
      "241/241 [==============================] - 43s 178ms/step - loss: 0.3299 - accuracy: 0.8699 - val_loss: 0.3561 - val_accuracy: 0.8653\n",
      "Epoch 41/50\n",
      "241/241 [==============================] - 43s 178ms/step - loss: 0.2965 - accuracy: 0.8812 - val_loss: 0.3576 - val_accuracy: 0.8603\n",
      "Epoch 42/50\n",
      "241/241 [==============================] - 43s 178ms/step - loss: 0.3085 - accuracy: 0.8745 - val_loss: 0.3501 - val_accuracy: 0.8658\n",
      "Epoch 43/50\n",
      "241/241 [==============================] - 43s 178ms/step - loss: 0.3144 - accuracy: 0.8743 - val_loss: 0.3410 - val_accuracy: 0.8690\n",
      "Epoch 44/50\n",
      "241/241 [==============================] - 43s 178ms/step - loss: 0.2921 - accuracy: 0.8920 - val_loss: 0.3624 - val_accuracy: 0.8603\n",
      "Epoch 45/50\n",
      "241/241 [==============================] - 43s 178ms/step - loss: 0.3164 - accuracy: 0.8775 - val_loss: 0.3603 - val_accuracy: 0.8640\n",
      "Epoch 46/50\n",
      "241/241 [==============================] - 43s 178ms/step - loss: 0.3008 - accuracy: 0.8827 - val_loss: 0.3557 - val_accuracy: 0.8540\n",
      "Epoch 47/50\n",
      "241/241 [==============================] - 43s 178ms/step - loss: 0.2977 - accuracy: 0.8792 - val_loss: 0.3513 - val_accuracy: 0.8594\n",
      "Epoch 48/50\n",
      "241/241 [==============================] - 43s 177ms/step - loss: 0.3008 - accuracy: 0.8806 - val_loss: 0.3798 - val_accuracy: 0.8585\n",
      "Epoch 49/50\n",
      "241/241 [==============================] - 43s 179ms/step - loss: 0.2882 - accuracy: 0.8891 - val_loss: 0.3336 - val_accuracy: 0.8653\n",
      "Epoch 50/50\n",
      "241/241 [==============================] - 43s 178ms/step - loss: 0.2956 - accuracy: 0.8832 - val_loss: 0.3826 - val_accuracy: 0.8526\n"
     ]
    }
   ],
   "source": [
    "#history=model.fit(data,new_target,epochs=50,validation_data = (data1,new_target1),callbacks =[earlystopping])\n",
    "history=model.fit(data,new_target,epochs=50,validation_data = (data1,new_target1))"
   ]
  },
  {
   "cell_type": "code",
   "execution_count": 13,
   "id": "4a00ed15",
   "metadata": {},
   "outputs": [
    {
     "data": {
      "image/png": "[encoded data removed]",
      "text/plain": [
       "<Figure size 640x480 with 1 Axes>"
      ]
     },
     "metadata": {},
     "output_type": "display_data"
    },
    {
     "data": {
      "image/png": "[encoded data removed]",
      "text/plain": [
       "<Figure size 640x480 with 1 Axes>"
      ]
     },
     "metadata": {},
     "output_type": "display_data"
    }
   ],
   "source": [
    "#plot the training and validation accuracy and loss at each epoch\n",
    "loss = history.history['loss']\n",
    "val_loss = history.history['val_loss']\n",
    "epochs = range(1, len(loss) + 1)\n",
    "plt.plot(epochs, loss, 'y', label='Training loss')\n",
    "plt.plot(epochs, val_loss, 'r', label='Validation loss')\n",
    "plt.title('Training and validation loss')\n",
    "plt.xlabel('Epochs')\n",
    "plt.ylabel('Loss')\n",
    "plt.legend()\n",
    "plt.show()\n",
    "\n",
    "\n",
    "acc = history.history['accuracy']\n",
    "val_acc = history.history['val_accuracy']\n",
    "plt.plot(epochs, acc, 'y', label='Training acc')\n",
    "plt.plot(epochs, val_acc, 'r', label='Validation acc')\n",
    "plt.title('Training and validation accuracy')\n",
    "plt.xlabel('Epochs')\n",
    "plt.ylabel('Accuracy')\n",
    "plt.legend()\n",
    "plt.show()"
   ]
  },
  {
   "cell_type": "markdown",
   "id": "c5052572",
   "metadata": {},
   "source": [
    "# Saving the Model "
   ]
  },
  {
   "cell_type": "code",
   "execution_count": 14,
   "id": "3fb2c517",
   "metadata": {},
   "outputs": [
    {
     "name": "stderr",
     "output_type": "stream",
     "text": [
      "WARNING:absl:Found untraced functions such as conv2d_layer_call_and_return_conditional_losses, conv2d_layer_call_fn, conv2d_1_layer_call_and_return_conditional_losses, conv2d_1_layer_call_fn, dropout_layer_call_and_return_conditional_losses while saving (showing 5 of 50). These functions will not be directly callable after loading.\n"
     ]
    },
    {
     "name": "stdout",
     "output_type": "stream",
     "text": [
      "INFO:tensorflow:Assets written to: model_Custom_CNN_COVID19_using_CLAHE_No_Overfit_TAcc88_VAcc85.model\\assets\n"
     ]
    },
    {
     "name": "stderr",
     "output_type": "stream",
     "text": [
      "INFO:tensorflow:Assets written to: model_Custom_CNN_COVID19_using_CLAHE_No_Overfit_TAcc88_VAcc85.model\\assets\n"
     ]
    }
   ],
   "source": [
    "# save it as a h5 file\n",
    "\n",
    "\n",
    "from tensorflow.keras.models import load_model\n",
    "\n",
    "model.save('model_Custom_CNN_COVID19_using_CLAHE_No_Overfit_TAcc88_VAcc85.model')"
   ]
  },
  {
   "cell_type": "markdown",
   "id": "20039451",
   "metadata": {},
   "source": [
    "## Image Prediction"
   ]
  },
  {
   "cell_type": "code",
   "execution_count": 15,
   "id": "66fb7b03",
   "metadata": {},
   "outputs": [],
   "source": [
    "from tensorflow.keras.models import load_model\n",
    "from tensorflow.keras.preprocessing import image\n",
    "\n",
    "#model=load_model('model_Custom_CNN_COVID19_using_CLAHE.h5')\n",
    "#model=load_model('model_Custom_CNN_COVID19_using_CLAHE_KindOffOverFit_TAcc96_VAcc86.h5')\n",
    "#model=load_model('model_Custom_CNN_COVID19_using_CLAHE_No_Overfit_TAcc85_VAcc85.model')\n",
    "model=load_model('model_Custom_CNN_COVID19_using_CLAHE_No_Overfit_TAcc88_VAcc85.model')\n"
   ]
  },
  {
   "cell_type": "code",
   "execution_count": 16,
   "id": "ff1a317d",
   "metadata": {},
   "outputs": [
    {
     "data": {
      "text/plain": [
       "array([0, 0, 0, ..., 3, 2, 3], dtype=int64)"
      ]
     },
     "execution_count": 16,
     "metadata": {},
     "output_type": "execute_result"
    }
   ],
   "source": [
    "y_pred = model.predict(data1)\n",
    "\n",
    "import numpy as np\n",
    "y_pred = np.argmax(y_pred, axis=1)\n",
    "y_pred"
   ]
  },
  {
   "cell_type": "code",
   "execution_count": 43,
   "id": "10403ff5",
   "metadata": {},
   "outputs": [
    {
     "data": {
      "text/plain": [
       "array([[[244., 244., 244.],\n",
       "        [237., 237., 237.],\n",
       "        [242., 242., 242.],\n",
       "        ...,\n",
       "        [  8.,   9.,   8.],\n",
       "        [  8.,   8.,   7.],\n",
       "        [  6.,   6.,   6.]],\n",
       "\n",
       "       [[245., 245., 245.],\n",
       "        [243., 243., 243.],\n",
       "        [237., 237., 237.],\n",
       "        ...,\n",
       "        [ 14.,  14.,  14.],\n",
       "        [  8.,   8.,   8.],\n",
       "        [  6.,   6.,   6.]],\n",
       "\n",
       "       [[243., 243., 243.],\n",
       "        [227., 227., 227.],\n",
       "        [218., 218., 218.],\n",
       "        ...,\n",
       "        [ 11.,  11.,  11.],\n",
       "        [ 13.,  13.,  13.],\n",
       "        [ 11.,  11.,  11.]],\n",
       "\n",
       "       ...,\n",
       "\n",
       "       [[ 15.,  15.,  15.],\n",
       "        [ 34.,  34.,  34.],\n",
       "        [ 54.,  54.,  54.],\n",
       "        ...,\n",
       "        [ 64.,  64.,  64.],\n",
       "        [ 63.,  63.,  63.],\n",
       "        [ 64.,  64.,  64.]],\n",
       "\n",
       "       [[ 17.,  17.,  17.],\n",
       "        [ 40.,  40.,  40.],\n",
       "        [ 54.,  54.,  54.],\n",
       "        ...,\n",
       "        [ 64.,  64.,  64.],\n",
       "        [ 64.,  64.,  64.],\n",
       "        [ 64.,  64.,  64.]],\n",
       "\n",
       "       [[ 18.,  18.,  18.],\n",
       "        [ 39.,  39.,  39.],\n",
       "        [ 57.,  57.,  57.],\n",
       "        ...,\n",
       "        [ 63.,  63.,  62.],\n",
       "        [ 64.,  64.,  64.],\n",
       "        [ 64.,  64.,  64.]]], dtype=float32)"
      ]
     },
     "execution_count": 43,
     "metadata": {},
     "output_type": "execute_result"
    }
   ],
   "source": [
    "img_path = r\"E:\\Chest X ray New Dataset\\test\\PNEUMONIA BACTERIA\\person413_bacteria_1829.jpeg\"\n",
    "img_size=224\n",
    "img=cv2.imread(img_path)\n",
    "lab = cv2.cvtColor(img, cv2.COLOR_BGR2LAB)\n",
    "lab_planes = cv2.split(lab)\n",
    "clahe = cv2.createCLAHE(clipLimit=5,tileGridSize=(8,8))\n",
    "lab_planes[0] = clahe.apply(lab_planes[0])\n",
    "lab = cv2.merge(lab_planes)\n",
    "bgr = cv2.cvtColor(lab, cv2.COLOR_LAB2BGR)\n",
    "resized=cv2.resize(bgr,(img_size,img_size))\n",
    "x=image.img_to_array(resized)\n",
    "x"
   ]
  },
  {
   "cell_type": "code",
   "execution_count": 44,
   "id": "a1f3fb35",
   "metadata": {},
   "outputs": [
    {
     "data": {
      "text/plain": [
       "(224, 224, 3)"
      ]
     },
     "execution_count": 44,
     "metadata": {},
     "output_type": "execute_result"
    }
   ],
   "source": [
    "x.shape"
   ]
  },
  {
   "cell_type": "code",
   "execution_count": 45,
   "id": "3869e32f",
   "metadata": {},
   "outputs": [
    {
     "data": {
      "text/plain": [
       "(1, 224, 224, 3)"
      ]
     },
     "execution_count": 45,
     "metadata": {},
     "output_type": "execute_result"
    }
   ],
   "source": [
    "x=x/255\n",
    "x=np.expand_dims(x,axis=0)\n",
    "img1 = np.reshape(x,[1,224,224,3])\n",
    "img1.shape"
   ]
  },
  {
   "cell_type": "code",
   "execution_count": 46,
   "id": "74a1738c",
   "metadata": {},
   "outputs": [
    {
     "data": {
      "text/plain": [
       "array([[1.2527607e-12, 2.0747439e-08, 9.5106560e-01, 4.8934370e-02]],\n",
       "      dtype=float32)"
      ]
     },
     "execution_count": 46,
     "metadata": {},
     "output_type": "execute_result"
    }
   ],
   "source": [
    "model.predict(img1)"
   ]
  },
  {
   "cell_type": "code",
   "execution_count": 47,
   "id": "0f9eb191",
   "metadata": {},
   "outputs": [
    {
     "name": "stdout",
     "output_type": "stream",
     "text": [
      "PNEUMONIA BACTERIA\n"
     ]
    }
   ],
   "source": [
    "a=np.argmax(model.predict(img1), axis=1)\n",
    "if (a==0):\n",
    "    print(\"COVID\")\n",
    "elif (a==1): \n",
    "    print(\"NORMAL\")\n",
    "elif (a==2):\n",
    "    print(\"PNEUMONIA BACTERIA\")\n",
    "else :\n",
    "    print(\"PNEUMONIA VIRUS\")"
   ]
  },
  {
   "cell_type": "markdown",
   "id": "251e1f39",
   "metadata": {},
   "source": [
    "# Confusion Matrix"
   ]
  },
  {
   "cell_type": "code",
   "execution_count": 22,
   "id": "0bc31cc6",
   "metadata": {},
   "outputs": [
    {
     "name": "stderr",
     "output_type": "stream",
     "text": [
      "E:\\Anaconda\\envs\\tf-gpu\\lib\\site-packages\\tensorflow\\python\\keras\\engine\\sequential.py:455: UserWarning: `model.predict_classes()` is deprecated and will be removed after 2021-01-01. Please use instead:* `np.argmax(model.predict(x), axis=-1)`,   if your model does multi-class classification   (e.g. if it uses a `softmax` last-layer activation).* `(model.predict(x) > 0.5).astype(\"int32\")`,   if your model does binary classification   (e.g. if it uses a `sigmoid` last-layer activation).\n",
      "  warnings.warn('`model.predict_classes()` is deprecated and '\n"
     ]
    },
    {
     "data": {
      "image/png": "[encoded data removed]",
      "text/plain": [
       "<Figure size 640x480 with 1 Axes>"
      ]
     },
     "metadata": {},
     "output_type": "display_data"
    }
   ],
   "source": [
    "from mlxtend.plotting import plot_confusion_matrix\n",
    "from sklearn.metrics import confusion_matrix\n",
    "\n",
    "\n",
    "rounded_predictions = model.predict_classes(data1, batch_size=128, verbose=0)\n",
    "\n",
    "import numpy as np\n",
    "rounded_labels=np.argmax(new_target1, axis=1)\n",
    "\n",
    "\n",
    "from sklearn.metrics import confusion_matrix\n",
    "cm = confusion_matrix(rounded_labels, rounded_predictions)\n",
    "plot_confusion_matrix(conf_mat=cm)\n",
    "plt.show()\n"
   ]
  },
  {
   "cell_type": "code",
   "execution_count": null,
   "id": "9d26511d",
   "metadata": {},
   "outputs": [],
   "source": []
  }
 ],
 "metadata": {
  "kernelspec": {
   "display_name": "Python 3",
   "language": "python",
   "name": "python3"
  },
  "language_info": {
   "codemirror_mode": {
    "name": "ipython",
    "version": 3
   },
   "file_extension": ".py",
   "mimetype": "text/x-python",
   "name": "python",
   "nbconvert_exporter": "python",
   "pygments_lexer": "ipython3",
   "version": "3.8.11"
  }
 },
 "nbformat": 4,
 "nbformat_minor": 5
}
